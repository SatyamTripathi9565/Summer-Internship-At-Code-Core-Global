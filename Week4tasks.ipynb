{
 "cells": [
  {
   "cell_type": "code",
   "execution_count": 2,
   "id": "e6e9b6be-70c4-46e1-8f27-e6d6b4def95b",
   "metadata": {},
   "outputs": [
    {
     "data": {
      "text/html": [
       "<div>\n",
       "<style scoped>\n",
       "    .dataframe tbody tr th:only-of-type {\n",
       "        vertical-align: middle;\n",
       "    }\n",
       "\n",
       "    .dataframe tbody tr th {\n",
       "        vertical-align: top;\n",
       "    }\n",
       "\n",
       "    .dataframe thead th {\n",
       "        text-align: right;\n",
       "    }\n",
       "</style>\n",
       "<table border=\"1\" class=\"dataframe\">\n",
       "  <thead>\n",
       "    <tr style=\"text-align: right;\">\n",
       "      <th></th>\n",
       "      <th>CustomerID</th>\n",
       "      <th>Gender</th>\n",
       "      <th>Age</th>\n",
       "      <th>Annual Income</th>\n",
       "      <th>Spending Score (1-100)</th>\n",
       "    </tr>\n",
       "  </thead>\n",
       "  <tbody>\n",
       "    <tr>\n",
       "      <th>0</th>\n",
       "      <td>1</td>\n",
       "      <td>Male</td>\n",
       "      <td>19</td>\n",
       "      <td>15</td>\n",
       "      <td>39.0</td>\n",
       "    </tr>\n",
       "    <tr>\n",
       "      <th>1</th>\n",
       "      <td>2</td>\n",
       "      <td>Male</td>\n",
       "      <td>21</td>\n",
       "      <td>15</td>\n",
       "      <td>81.0</td>\n",
       "    </tr>\n",
       "    <tr>\n",
       "      <th>2</th>\n",
       "      <td>3</td>\n",
       "      <td>Female</td>\n",
       "      <td>20</td>\n",
       "      <td>16</td>\n",
       "      <td>6.0</td>\n",
       "    </tr>\n",
       "    <tr>\n",
       "      <th>3</th>\n",
       "      <td>4</td>\n",
       "      <td>Female</td>\n",
       "      <td>23</td>\n",
       "      <td>16</td>\n",
       "      <td>NaN</td>\n",
       "    </tr>\n",
       "    <tr>\n",
       "      <th>4</th>\n",
       "      <td>5</td>\n",
       "      <td>Female</td>\n",
       "      <td>31</td>\n",
       "      <td>17</td>\n",
       "      <td>40.0</td>\n",
       "    </tr>\n",
       "  </tbody>\n",
       "</table>\n",
       "</div>"
      ],
      "text/plain": [
       "   CustomerID  Gender  Age  Annual Income  Spending Score (1-100)\n",
       "0           1    Male   19             15                    39.0\n",
       "1           2    Male   21             15                    81.0\n",
       "2           3  Female   20             16                     6.0\n",
       "3           4  Female   23             16                     NaN\n",
       "4           5  Female   31             17                    40.0"
      ]
     },
     "execution_count": 2,
     "metadata": {},
     "output_type": "execute_result"
    }
   ],
   "source": [
    "import pandas as pd \n",
    "df = pd.read_csv(\"Week4/Mall_Customers.csv\")\n",
    "df.head()"
   ]
  },
  {
   "cell_type": "markdown",
   "id": "8f155d6e-8ed1-4821-9caf-d9cf4012bf5d",
   "metadata": {},
   "source": [
    "Week 4 - Day 17 by Satyam"
   ]
  },
  {
   "cell_type": "code",
   "execution_count": 3,
   "id": "d6a51783-2bfd-48ff-924e-d692f04b865f",
   "metadata": {},
   "outputs": [
    {
     "data": {
      "text/plain": [
       "CustomerID                0\n",
       "Gender                    3\n",
       "Age                       0\n",
       "Annual Income             0\n",
       "Spending Score (1-100)    4\n",
       "dtype: int64"
      ]
     },
     "execution_count": 3,
     "metadata": {},
     "output_type": "execute_result"
    }
   ],
   "source": [
    "df.isnull().sum()"
   ]
  },
  {
   "cell_type": "code",
   "execution_count": 4,
   "id": "8e79f03d-2ca5-4d69-be73-032fa94b4ad5",
   "metadata": {},
   "outputs": [
    {
     "data": {
      "text/plain": [
       "(200, 5)"
      ]
     },
     "execution_count": 4,
     "metadata": {},
     "output_type": "execute_result"
    }
   ],
   "source": [
    "df.shape"
   ]
  },
  {
   "cell_type": "code",
   "execution_count": 5,
   "id": "b5bcade0-52d4-490f-b9c2-c328173738a0",
   "metadata": {},
   "outputs": [
    {
     "data": {
      "text/html": [
       "<div>\n",
       "<style scoped>\n",
       "    .dataframe tbody tr th:only-of-type {\n",
       "        vertical-align: middle;\n",
       "    }\n",
       "\n",
       "    .dataframe tbody tr th {\n",
       "        vertical-align: top;\n",
       "    }\n",
       "\n",
       "    .dataframe thead th {\n",
       "        text-align: right;\n",
       "    }\n",
       "</style>\n",
       "<table border=\"1\" class=\"dataframe\">\n",
       "  <thead>\n",
       "    <tr style=\"text-align: right;\">\n",
       "      <th></th>\n",
       "      <th>CustomerID</th>\n",
       "      <th>Gender</th>\n",
       "      <th>Age</th>\n",
       "      <th>Annual Income</th>\n",
       "      <th>Spending Score (1-100)</th>\n",
       "    </tr>\n",
       "  </thead>\n",
       "  <tbody>\n",
       "    <tr>\n",
       "      <th>0</th>\n",
       "      <td>1</td>\n",
       "      <td>Male</td>\n",
       "      <td>19</td>\n",
       "      <td>15</td>\n",
       "      <td>39.0</td>\n",
       "    </tr>\n",
       "    <tr>\n",
       "      <th>1</th>\n",
       "      <td>2</td>\n",
       "      <td>Male</td>\n",
       "      <td>21</td>\n",
       "      <td>15</td>\n",
       "      <td>81.0</td>\n",
       "    </tr>\n",
       "    <tr>\n",
       "      <th>2</th>\n",
       "      <td>3</td>\n",
       "      <td>Female</td>\n",
       "      <td>20</td>\n",
       "      <td>16</td>\n",
       "      <td>6.0</td>\n",
       "    </tr>\n",
       "    <tr>\n",
       "      <th>4</th>\n",
       "      <td>5</td>\n",
       "      <td>Female</td>\n",
       "      <td>31</td>\n",
       "      <td>17</td>\n",
       "      <td>40.0</td>\n",
       "    </tr>\n",
       "    <tr>\n",
       "      <th>5</th>\n",
       "      <td>6</td>\n",
       "      <td>Female</td>\n",
       "      <td>22</td>\n",
       "      <td>17</td>\n",
       "      <td>76.0</td>\n",
       "    </tr>\n",
       "  </tbody>\n",
       "</table>\n",
       "</div>"
      ],
      "text/plain": [
       "   CustomerID  Gender  Age  Annual Income  Spending Score (1-100)\n",
       "0           1    Male   19             15                    39.0\n",
       "1           2    Male   21             15                    81.0\n",
       "2           3  Female   20             16                     6.0\n",
       "4           5  Female   31             17                    40.0\n",
       "5           6  Female   22             17                    76.0"
      ]
     },
     "execution_count": 5,
     "metadata": {},
     "output_type": "execute_result"
    }
   ],
   "source": [
    "df_cleaned = df.dropna()\n",
    "df_cleaned.head()"
   ]
  },
  {
   "cell_type": "code",
   "execution_count": 6,
   "id": "a8c6bbd4-d869-4f8b-8d60-cd0eb4f44174",
   "metadata": {},
   "outputs": [],
   "source": [
    "df['Annual Income'] = df['Annual Income'].fillna(df['Annual Income'].mean())"
   ]
  },
  {
   "cell_type": "code",
   "execution_count": 7,
   "id": "95bd9c6f-7ada-4145-9490-2bc6c542e018",
   "metadata": {},
   "outputs": [],
   "source": [
    "df['Gender'] = df['Gender'].fillna(\"Unknown\")"
   ]
  },
  {
   "cell_type": "code",
   "execution_count": 29,
   "id": "56e2b675-7099-4f2f-bfbc-bafded6a07cf",
   "metadata": {},
   "outputs": [],
   "source": [
    "df['Spending Score (1-100)'] = df['Spending Score (1-100)'].fillna(0)"
   ]
  },
  {
   "cell_type": "code",
   "execution_count": 28,
   "id": "42f9fb84-6333-4655-9c74-cb76f2433578",
   "metadata": {},
   "outputs": [
    {
     "name": "stdout",
     "output_type": "stream",
     "text": [
      "\n",
      "After Filling:\n",
      " CustomerID                0\n",
      "Gender                    3\n",
      "Age                       0\n",
      "Annual Income             0\n",
      "Spending Score (1-100)    4\n",
      "dtype: int64\n"
     ]
    }
   ],
   "source": [
    "print(\"\\nAfter Filling:\\n\", df.isnull().sum())"
   ]
  },
  {
   "cell_type": "code",
   "execution_count": 23,
   "id": "44a59393-0065-46cc-9d54-10dc2f16cab5",
   "metadata": {},
   "outputs": [
    {
     "data": {
      "image/png": "[encoded data removed]",
      "text/plain": [
       "<Figure size 600x400 with 1 Axes>"
      ]
     },
     "metadata": {},
     "output_type": "display_data"
    }
   ],
   "source": [
    "import seaborn as sns\n",
    "import matplotlib.pyplot as plt\n",
    "\n",
    "plt.figure(figsize=(6, 4))\n",
    "sns.boxplot(x=df['Annual Income'])\n",
    "plt.title(\"Outliers in Annual Income\")\n",
    "plt.show()"
   ]
  },
  {
   "cell_type": "markdown",
   "id": "fad609bf-35bc-443c-8e49-85dabcc3a9e6",
   "metadata": {},
   "source": [
    "Day 17 - Data Cleaning\n",
    "\n",
    "- Filled missing values in:\n",
    "  - Gender → \"Unknown\"\n",
    "  - Annual Income → mean\n",
    "  - Spending Score → 0\n",
    "- Verified cleaned data using isnull().sum()\n",
    "- Plotted boxplot for outliers in income"
   ]
  },
  {
   "cell_type": "markdown",
   "id": "e621b8b9-a4e2-4b04-8af0-1039ba22e3dc",
   "metadata": {},
   "source": [
    "Week 4 - Day 18 by Satyam"
   ]
  },
  {
   "cell_type": "code",
   "execution_count": 24,
   "id": "3995fbf6-476a-4d99-acc0-4006d0cade4f",
   "metadata": {},
   "outputs": [],
   "source": [
    "import pandas as pd \n",
    "import seaborn as sns\n",
    "import matplotlib.pyplot as plt"
   ]
  },
  {
   "cell_type": "code",
   "execution_count": 25,
   "id": "fe909adb-cf4c-44dd-a413-8daab8809a9e",
   "metadata": {},
   "outputs": [],
   "source": [
    "df = pd.read_csv(\"Week4/Mall_Customers.csv\")"
   ]
  },
  {
   "cell_type": "code",
   "execution_count": 30,
   "id": "6869aa5d-5a29-4c37-ab86-3490fde71b90",
   "metadata": {},
   "outputs": [],
   "source": [
    "num_df = df[['Age', 'Annual Income', 'Spending Score (1-100)']]"
   ]
  },
  {
   "cell_type": "code",
   "execution_count": 31,
   "id": "115be919-35bd-4259-ba81-890fabd801a6",
   "metadata": {},
   "outputs": [
    {
     "name": "stdout",
     "output_type": "stream",
     "text": [
      "                             Age  Annual Income  Spending Score (1-100)\n",
      "Age                     1.000000      -0.012398               -0.290989\n",
      "Annual Income          -0.012398       1.000000                0.057796\n",
      "Spending Score (1-100) -0.290989       0.057796                1.000000\n"
     ]
    }
   ],
   "source": [
    "correlation_matrix = num_df.corr()\n",
    "print(correlation_matrix)"
   ]
  },
  {
   "cell_type": "code",
   "execution_count": 32,
   "id": "7ab788ed-e181-4594-a924-dcca12665c7d",
   "metadata": {},
   "outputs": [
    {
     "data": {
      "image/png": "[encoded data removed]",
      "text/plain": [
       "<Figure size 600x400 with 2 Axes>"
      ]
     },
     "metadata": {},
     "output_type": "display_data"
    }
   ],
   "source": [
    "plt.figure(figsize=(6, 4))\n",
    "sns.heatmap(correlation_matrix, annot=True, cmap=\"coolwarm\", linewidths=0.5)\n",
    "plt.title(\"Correlation Heatmap\")\n",
    "plt.show()"
   ]
  },
  {
   "cell_type": "markdown",
   "id": "684e7f1b-6cac-42d7-b9c0-0f2fbcd6396c",
   "metadata": {},
   "source": [
    "Day 18 - Correlation & Heatmap (EDA)\n",
    "\n",
    "- Created correlation matrix using df.corr()\n",
    "- Observed relationships:\n",
    "  - Income aur Spending Score me positive relation\n",
    "  - Age aur Score me thoda negative relation\n",
    "- Visualized correlation matrix using Seaborn heatmap"
   ]
  },
  {
   "cell_type": "markdown",
   "id": "11746e3e-7e59-4a10-be16-d1e90a8840b3",
   "metadata": {},
   "source": [
    "Week 4 - Day 19 by Satyam"
   ]
  },
  {
   "cell_type": "markdown",
   "id": "69d87775-7964-4ee2-a064-faa3ed00eba0",
   "metadata": {},
   "source": [
    "Exploratory Data Analysis on Mall Customers\n",
    "By: Satyam  \n",
    "Dataset: Mall_Customers.csv  \n",
    "Goal: Analyze customer behavior using age, income, and spending score"
   ]
  },
  {
   "cell_type": "markdown",
   "id": "8ad5f1c5-acea-40eb-914c-b2a8a9dea43b",
   "metadata": {},
   "source": [
    "Data Overview\n",
    "\n",
    "The dataset contains data for 200 customers with the following fields:\n",
    "- CustomerID\n",
    "- Gender\n",
    "- Age\n",
    "- Annual Income\n",
    "- Spending Score (1-100)"
   ]
  },
  {
   "cell_type": "markdown",
   "id": "3f63431c-c84b-4dfd-8fe6-8e0d62c07933",
   "metadata": {},
   "source": [
    "Observations\n",
    "\n",
    "- Total 200 customers\n",
    "- Spending score has low correlation with income\n",
    "- Younger people tend to spend more\n",
    "\n",
    "Visuals:\n",
    "- Heatmap\n",
    "- Bar/pie charts (optional)"
   ]
  },
  {
   "cell_type": "markdown",
   "id": "19471096-855d-445c-afe1-e163251953df",
   "metadata": {},
   "source": [
    "Week 4 - Day 20 by Satyam"
   ]
  },
  {
   "cell_type": "markdown",
   "id": "7d7b8ecb-77b6-4853-a637-15602a3d36f3",
   "metadata": {},
   "source": [
    "## Project Summary \n",
    "I completed an exploratory data analysis (EDA) project using the Mall_Customers dataset on Jupyter Notebook. Using Pandas and Seaborn, I analyzed customer age, income, and spending scores. I found that younger customers tend to spend more, while income has little effect on spending behavior. I visualized trends using heatmaps and summary statistics. This hands-on project helped me apply Python, data cleaning, and correlation analysis skills. Excited to explore more on customer segmentation and machine learning next!\n",
    "\n",
    "#DataAnalytics #Python #EDA #JupyterNotebook #Kaggle"
   ]
  },
  {
   "cell_type": "code",
   "execution_count": null,
   "id": "3f437b93-5042-4288-9029-357c7cef266a",
   "metadata": {},
   "outputs": [],
   "source": []
  }
 ],
 "metadata": {
  "kernelspec": {
   "display_name": "Python 3 (ipykernel)",
   "language": "python",
   "name": "python3"
  },
  "language_info": {
   "codemirror_mode": {
    "name": "ipython",
    "version": 3
   },
   "file_extension": ".py",
   "mimetype": "text/x-python",
   "name": "python",
   "nbconvert_exporter": "python",
   "pygments_lexer": "ipython3",
   "version": "3.13.0"
  }
 },
 "nbformat": 4,
 "nbformat_minor": 5
}
