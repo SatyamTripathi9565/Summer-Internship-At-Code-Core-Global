{
 "cells": [
  {
   "cell_type": "markdown",
   "id": "58faa948-d735-4575-ba42-a7d4cc45ab2d",
   "metadata": {},
   "source": [
    "# Week 4- Day17 : EDA Start by Satyam\n",
    "import pandas as pd \n",
    "df = pd.read_csv(\"Week4/Mall_Customers.csv\")\n",
    "df.head()\n"
   ]
  },
  {
   "cell_type": "code",
   "execution_count": 15,
   "id": "82cd520d-4991-4002-b097-a1bfb8412222",
   "metadata": {},
   "outputs": [
    {
     "data": {
      "text/plain": [
       "CustomerID                0\n",
       "Gender                    3\n",
       "Age                       0\n",
       "Annual Income             0\n",
       "Spending Score (1-100)    4\n",
       "dtype: int64"
      ]
     },
     "execution_count": 15,
     "metadata": {},
     "output_type": "execute_result"
    }
   ],
   "source": [
    "df.isnull().sum()"
   ]
  },
  {
   "cell_type": "code",
   "execution_count": 16,
   "id": "a0423b86-922d-4356-83af-0770c18bd3ee",
   "metadata": {},
   "outputs": [
    {
     "data": {
      "text/html": [
       "<div>\n",
       "<style scoped>\n",
       "    .dataframe tbody tr th:only-of-type {\n",
       "        vertical-align: middle;\n",
       "    }\n",
       "\n",
       "    .dataframe tbody tr th {\n",
       "        vertical-align: top;\n",
       "    }\n",
       "\n",
       "    .dataframe thead th {\n",
       "        text-align: right;\n",
       "    }\n",
       "</style>\n",
       "<table border=\"1\" class=\"dataframe\">\n",
       "  <thead>\n",
       "    <tr style=\"text-align: right;\">\n",
       "      <th></th>\n",
       "      <th>CustomerID</th>\n",
       "      <th>Gender</th>\n",
       "      <th>Age</th>\n",
       "      <th>Annual Income</th>\n",
       "      <th>Spending Score (1-100)</th>\n",
       "    </tr>\n",
       "  </thead>\n",
       "  <tbody>\n",
       "    <tr>\n",
       "      <th>0</th>\n",
       "      <td>1</td>\n",
       "      <td>Male</td>\n",
       "      <td>19</td>\n",
       "      <td>15</td>\n",
       "      <td>39.0</td>\n",
       "    </tr>\n",
       "    <tr>\n",
       "      <th>1</th>\n",
       "      <td>2</td>\n",
       "      <td>Male</td>\n",
       "      <td>21</td>\n",
       "      <td>15</td>\n",
       "      <td>81.0</td>\n",
       "    </tr>\n",
       "    <tr>\n",
       "      <th>2</th>\n",
       "      <td>3</td>\n",
       "      <td>Female</td>\n",
       "      <td>20</td>\n",
       "      <td>16</td>\n",
       "      <td>6.0</td>\n",
       "    </tr>\n",
       "    <tr>\n",
       "      <th>4</th>\n",
       "      <td>5</td>\n",
       "      <td>Female</td>\n",
       "      <td>31</td>\n",
       "      <td>17</td>\n",
       "      <td>40.0</td>\n",
       "    </tr>\n",
       "    <tr>\n",
       "      <th>5</th>\n",
       "      <td>6</td>\n",
       "      <td>Female</td>\n",
       "      <td>22</td>\n",
       "      <td>17</td>\n",
       "      <td>76.0</td>\n",
       "    </tr>\n",
       "  </tbody>\n",
       "</table>\n",
       "</div>"
      ],
      "text/plain": [
       "   CustomerID  Gender  Age  Annual Income  Spending Score (1-100)\n",
       "0           1    Male   19             15                    39.0\n",
       "1           2    Male   21             15                    81.0\n",
       "2           3  Female   20             16                     6.0\n",
       "4           5  Female   31             17                    40.0\n",
       "5           6  Female   22             17                    76.0"
      ]
     },
     "execution_count": 16,
     "metadata": {},
     "output_type": "execute_result"
    }
   ],
   "source": [
    "df_cleaned = df.dropna()\n",
    "df_cleaned.head()"
   ]
  },
  {
   "cell_type": "code",
   "execution_count": 17,
   "id": "9d5efea6-0376-4a45-adb5-ab3559ba01e7",
   "metadata": {},
   "outputs": [
    {
     "data": {
      "text/html": [
       "<div>\n",
       "<style scoped>\n",
       "    .dataframe tbody tr th:only-of-type {\n",
       "        vertical-align: middle;\n",
       "    }\n",
       "\n",
       "    .dataframe tbody tr th {\n",
       "        vertical-align: top;\n",
       "    }\n",
       "\n",
       "    .dataframe thead th {\n",
       "        text-align: right;\n",
       "    }\n",
       "</style>\n",
       "<table border=\"1\" class=\"dataframe\">\n",
       "  <thead>\n",
       "    <tr style=\"text-align: right;\">\n",
       "      <th></th>\n",
       "      <th>CustomerID</th>\n",
       "      <th>Age</th>\n",
       "      <th>Annual Income</th>\n",
       "      <th>Spending Score (1-100)</th>\n",
       "    </tr>\n",
       "  </thead>\n",
       "  <tbody>\n",
       "    <tr>\n",
       "      <th>count</th>\n",
       "      <td>200.000000</td>\n",
       "      <td>200.000000</td>\n",
       "      <td>200.000000</td>\n",
       "      <td>196.000000</td>\n",
       "    </tr>\n",
       "    <tr>\n",
       "      <th>mean</th>\n",
       "      <td>100.500000</td>\n",
       "      <td>38.850000</td>\n",
       "      <td>60.560000</td>\n",
       "      <td>50.408163</td>\n",
       "    </tr>\n",
       "    <tr>\n",
       "      <th>std</th>\n",
       "      <td>57.879185</td>\n",
       "      <td>13.969007</td>\n",
       "      <td>26.264721</td>\n",
       "      <td>25.639447</td>\n",
       "    </tr>\n",
       "    <tr>\n",
       "      <th>min</th>\n",
       "      <td>1.000000</td>\n",
       "      <td>18.000000</td>\n",
       "      <td>15.000000</td>\n",
       "      <td>1.000000</td>\n",
       "    </tr>\n",
       "    <tr>\n",
       "      <th>25%</th>\n",
       "      <td>50.750000</td>\n",
       "      <td>28.750000</td>\n",
       "      <td>41.500000</td>\n",
       "      <td>35.000000</td>\n",
       "    </tr>\n",
       "    <tr>\n",
       "      <th>50%</th>\n",
       "      <td>100.500000</td>\n",
       "      <td>36.000000</td>\n",
       "      <td>61.500000</td>\n",
       "      <td>50.000000</td>\n",
       "    </tr>\n",
       "    <tr>\n",
       "      <th>75%</th>\n",
       "      <td>150.250000</td>\n",
       "      <td>49.000000</td>\n",
       "      <td>78.000000</td>\n",
       "      <td>73.000000</td>\n",
       "    </tr>\n",
       "    <tr>\n",
       "      <th>max</th>\n",
       "      <td>200.000000</td>\n",
       "      <td>70.000000</td>\n",
       "      <td>137.000000</td>\n",
       "      <td>99.000000</td>\n",
       "    </tr>\n",
       "  </tbody>\n",
       "</table>\n",
       "</div>"
      ],
      "text/plain": [
       "       CustomerID         Age  Annual Income  Spending Score (1-100)\n",
       "count  200.000000  200.000000     200.000000              196.000000\n",
       "mean   100.500000   38.850000      60.560000               50.408163\n",
       "std     57.879185   13.969007      26.264721               25.639447\n",
       "min      1.000000   18.000000      15.000000                1.000000\n",
       "25%     50.750000   28.750000      41.500000               35.000000\n",
       "50%    100.500000   36.000000      61.500000               50.000000\n",
       "75%    150.250000   49.000000      78.000000               73.000000\n",
       "max    200.000000   70.000000     137.000000               99.000000"
      ]
     },
     "execution_count": 17,
     "metadata": {},
     "output_type": "execute_result"
    }
   ],
   "source": [
    "df.describe()"
   ]
  },
  {
   "cell_type": "code",
   "execution_count": 23,
   "id": "e3e6da86-dca0-4987-aa14-ce097f2ba5f2",
   "metadata": {},
   "outputs": [],
   "source": [
    "df['Annual Income'] = df['Annual Income'].fillna(df['Annual Income'].mean())"
   ]
  },
  {
   "cell_type": "code",
   "execution_count": 24,
   "id": "ca13fc64-9423-4dd3-8b7f-c444076bb9cd",
   "metadata": {},
   "outputs": [],
   "source": [
    "df['Gender'] = df['Gender'].fillna(\"Unknown\")"
   ]
  },
  {
   "cell_type": "code",
   "execution_count": 25,
   "id": "a2e0035c-f179-40b0-b474-b30cdefac610",
   "metadata": {},
   "outputs": [],
   "source": [
    "df['Spending Score (1-100)'] = df['Spending Score (1-100)'].fillna(0)"
   ]
  },
  {
   "cell_type": "code",
   "execution_count": 26,
   "id": "28cd1314-505c-4520-acf0-8d4691312fe5",
   "metadata": {},
   "outputs": [
    {
     "name": "stdout",
     "output_type": "stream",
     "text": [
      "\n",
      " After Filling:\n",
      " CustomerID                0\n",
      "Gender                    0\n",
      "Age                       0\n",
      "Annual Income             0\n",
      "Spending Score (1-100)    0\n",
      "dtype: int64\n"
     ]
    }
   ],
   "source": [
    "print(\"\\n After Filling:\\n\", df.isnull().sum())"
   ]
  },
  {
   "cell_type": "code",
   "execution_count": 27,
   "id": "90fdc77f-7acf-4d5b-9279-596d33569148",
   "metadata": {},
   "outputs": [
    {
     "data": {
      "text/html": [
       "<div>\n",
       "<style scoped>\n",
       "    .dataframe tbody tr th:only-of-type {\n",
       "        vertical-align: middle;\n",
       "    }\n",
       "\n",
       "    .dataframe tbody tr th {\n",
       "        vertical-align: top;\n",
       "    }\n",
       "\n",
       "    .dataframe thead th {\n",
       "        text-align: right;\n",
       "    }\n",
       "</style>\n",
       "<table border=\"1\" class=\"dataframe\">\n",
       "  <thead>\n",
       "    <tr style=\"text-align: right;\">\n",
       "      <th></th>\n",
       "      <th>CustomerID</th>\n",
       "      <th>Gender</th>\n",
       "      <th>Age</th>\n",
       "      <th>Annual Income</th>\n",
       "      <th>Spending Score (1-100)</th>\n",
       "    </tr>\n",
       "  </thead>\n",
       "  <tbody>\n",
       "    <tr>\n",
       "      <th>0</th>\n",
       "      <td>1</td>\n",
       "      <td>Male</td>\n",
       "      <td>19</td>\n",
       "      <td>15</td>\n",
       "      <td>39.0</td>\n",
       "    </tr>\n",
       "    <tr>\n",
       "      <th>1</th>\n",
       "      <td>2</td>\n",
       "      <td>Male</td>\n",
       "      <td>21</td>\n",
       "      <td>15</td>\n",
       "      <td>81.0</td>\n",
       "    </tr>\n",
       "    <tr>\n",
       "      <th>2</th>\n",
       "      <td>3</td>\n",
       "      <td>Female</td>\n",
       "      <td>20</td>\n",
       "      <td>16</td>\n",
       "      <td>6.0</td>\n",
       "    </tr>\n",
       "    <tr>\n",
       "      <th>3</th>\n",
       "      <td>4</td>\n",
       "      <td>Female</td>\n",
       "      <td>23</td>\n",
       "      <td>16</td>\n",
       "      <td>0.0</td>\n",
       "    </tr>\n",
       "    <tr>\n",
       "      <th>4</th>\n",
       "      <td>5</td>\n",
       "      <td>Female</td>\n",
       "      <td>31</td>\n",
       "      <td>17</td>\n",
       "      <td>40.0</td>\n",
       "    </tr>\n",
       "  </tbody>\n",
       "</table>\n",
       "</div>"
      ],
      "text/plain": [
       "   CustomerID  Gender  Age  Annual Income  Spending Score (1-100)\n",
       "0           1    Male   19             15                    39.0\n",
       "1           2    Male   21             15                    81.0\n",
       "2           3  Female   20             16                     6.0\n",
       "3           4  Female   23             16                     0.0\n",
       "4           5  Female   31             17                    40.0"
      ]
     },
     "execution_count": 27,
     "metadata": {},
     "output_type": "execute_result"
    }
   ],
   "source": [
    "df.head()"
   ]
  },
  {
   "cell_type": "code",
   "execution_count": 28,
   "id": "02e8dd1d-563b-44c9-add4-bcce3420df4c",
   "metadata": {},
   "outputs": [
    {
     "data": {
      "image/png": "[encoded data removed]",
      "text/plain": [
       "<Figure size 600x400 with 1 Axes>"
      ]
     },
     "metadata": {},
     "output_type": "display_data"
    }
   ],
   "source": [
    "import seaborn as sns\n",
    "import matplotlib.pyplot as plt\n",
    "plt.figure(figsize = (6, 4))\n",
    "sns.boxplot(x = df['Annual Income'])\n",
    "plt.title(\"Outlier in Annual Income\")\n",
    "plt.show()"
   ]
  },
  {
   "cell_type": "markdown",
   "id": "18d7666f-7df2-411b-9d4f-d64bd03ddd3d",
   "metadata": {},
   "source": [
    "### Day 17 - Data Cleaning \n",
    "- Filled missing value in:\n",
    "- Gender -> \"Unknown\"\n",
    "- Annual Income -> mean\n",
    "- Spending Score -> 0\n",
    "- Verified cleaned data using 'isnull().sum()'\n",
    "- Plotted boxplot for outlier in income\n"
   ]
  },
  {
   "cell_type": "markdown",
   "id": "020398f6-429c-4ed9-9513-9c487cfd38f2",
   "metadata": {},
   "source": [
    "# Week 4- Day18 : EDA with Correlation + Heatmap Start by Satyam"
   ]
  },
  {
   "cell_type": "code",
   "execution_count": 30,
   "id": "6d82fbec-e441-404a-b8dd-862648de9f0e",
   "metadata": {},
   "outputs": [],
   "source": [
    "import pandas as pd \n",
    "import seaborn as sns\n",
    "import matplotlib.pyplot as plt"
   ]
  },
  {
   "cell_type": "code",
   "execution_count": 36,
   "id": "1edfb9ab-9ae7-4418-9218-6fb018302a23",
   "metadata": {},
   "outputs": [
    {
     "data": {
      "text/plain": [
       "(200, 5)"
      ]
     },
     "execution_count": 36,
     "metadata": {},
     "output_type": "execute_result"
    }
   ],
   "source": [
    "df = pd.read_csv(\"Week4/Mall_Customers.csv\")\n",
    "df.shape"
   ]
  },
  {
   "cell_type": "code",
   "execution_count": 37,
   "id": "4bcf05dd-feaf-47d2-9901-51139e5101b7",
   "metadata": {},
   "outputs": [],
   "source": [
    "num_df = df[['Age', 'Annual Income', 'Spending Score (1-100)']]"
   ]
  },
  {
   "cell_type": "code",
   "execution_count": 38,
   "id": "1ae117b0-f2d1-4e2a-a4f6-1f1acd1eb945",
   "metadata": {},
   "outputs": [
    {
     "name": "stdout",
     "output_type": "stream",
     "text": [
      "                             Age  Annual Income  Spending Score (1-100)\n",
      "Age                     1.000000      -0.012398               -0.303885\n",
      "Annual Income          -0.012398       1.000000               -0.000134\n",
      "Spending Score (1-100) -0.303885      -0.000134                1.000000\n"
     ]
    }
   ],
   "source": [
    "correlation_matrix = num_df.corr()\n",
    "print(correlation_matrix)"
   ]
  },
  {
   "cell_type": "code",
   "execution_count": 39,
   "id": "f09b8b3e-6b66-4a61-9c90-924e2f321e41",
   "metadata": {},
   "outputs": [
    {
     "data": {
      "image/png": "[encoded data removed]",
      "text/plain": [
       "<Figure size 600x400 with 2 Axes>"
      ]
     },
     "metadata": {},
     "output_type": "display_data"
    }
   ],
   "source": [
    "plt.figure(figsize = (6, 4))\n",
    "sns.heatmap(correlation_matrix, annot = True, cmap = \"coolwarm\", linewidths = 0.5)\n",
    "plt.title(\"Correlation Heatmap\")\n",
    "plt.show()"
   ]
  },
  {
   "cell_type": "markdown",
   "id": "096cef23-f271-425d-8d7d-7172961b2361",
   "metadata": {},
   "source": [
    "### Day 18 - Correlation & Heatmap (EDA)\n",
    "\n",
    "- Created correlation matrix using df.corr()\n",
    "- Observed relationships:\n",
    "  - Income aur Spending Score me positive relation\n",
    "  - Age aur Score me thoda negative relation\n",
    "- Visualized correlation matrix using Seaborn heatmap"
   ]
  },
  {
   "cell_type": "markdown",
   "id": "806246d1-527e-4854-9f25-7da929f4c0fd",
   "metadata": {},
   "source": [
    "Week 4 -Day 19: Document in Jupyter Notebook By Satyam\n"
   ]
  },
  {
   "cell_type": "markdown",
   "id": "9ea3870d-9914-4767-8661-dfb64f21ad0c",
   "metadata": {},
   "source": [
    "# Exploratory Data Analysis on Mall Customers\n",
    "By: Satyam  \n",
    "Dataset: Mall_Customers.csv  \n",
    "Goal: Analyze customer behavior using age, income, and spending score"
   ]
  },
  {
   "cell_type": "markdown",
   "id": "70bb746d-bad7-46c2-94f6-06a6c1aa0771",
   "metadata": {},
   "source": [
    "## Data Overview\n",
    "\n",
    "The dataset contains the following columns:\n",
    "- CustomerID: Unique customer identifier\n",
    "- Gender: Male/Female\n",
    "- Age: Age of customer\n",
    "- Annual Income: Income in thousands (e.g., 15 = ₹15,000)\n",
    "- Spending Score (1-100): Customer spending behavior score assigned by the mall\n",
    "\n",
    "Total entries: 200"
   ]
  },
  {
   "cell_type": "markdown",
   "id": "9b8c4525-8dce-496c-a8aa-126637a837c4",
   "metadata": {},
   "source": [
    "## Observations\n",
    "\n",
    "- Total 200 customers\n",
    "- Spending score has low correlation with income\n",
    "- Younger people tend to spend more\n",
    "\n",
    "## Visuals:\n",
    "- Heatmap"
   ]
  },
  {
   "cell_type": "markdown",
   "id": "4c269afb-4f75-4f63-bade-0fa4e523d893",
   "metadata": {},
   "source": [
    "Week 4- Day 20: 100 word project summary "
   ]
  },
  {
   "cell_type": "markdown",
   "id": "e45008ab-e6b5-4d28-89ad-5355c68a4e4b",
   "metadata": {},
   "source": [
    "I completed an exploratory data analysis (EDA) project using the Mall_Customers dataset on Jupyter Notebook.\n",
    "Using Pandas and Seaborn, I analyzed customer age, income, and spending scores.\n",
    "I found that younger customers tend to spend more, while income has little effect on spending behavior.\n",
    "I visualized trends using heatmaps and summary statistics.\n",
    "This hands-on project helped me apply Python, data cleaning, and correlation analysis skills.\n",
    "Excited to explore more on customer segmentation and machine learning next!\n",
    "\n",
    "#DataAnalytics #Python #EDA #JupyterNotebook #Kaggle"
   ]
  },
  {
   "cell_type": "code",
   "execution_count": null,
   "id": "4b08df9a-39ee-449e-8d5f-e8821ff749dd",
   "metadata": {},
   "outputs": [],
   "source": []
  }
 ],
 "metadata": {
  "kernelspec": {
   "display_name": "Python 3 (ipykernel)",
   "language": "python",
   "name": "python3"
  },
  "language_info": {
   "codemirror_mode": {
    "name": "ipython",
    "version": 3
   },
   "file_extension": ".py",
   "mimetype": "text/x-python",
   "name": "python",
   "nbconvert_exporter": "python",
   "pygments_lexer": "ipython3",
   "version": "3.13.0"
  }
 },
 "nbformat": 4,
 "nbformat_minor": 5
}
